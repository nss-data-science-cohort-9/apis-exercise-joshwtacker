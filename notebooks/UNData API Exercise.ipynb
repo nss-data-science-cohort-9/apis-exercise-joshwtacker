{
 "cells": [
  {
   "cell_type": "markdown",
   "id": "dca89e84-7d65-4712-b836-7238cd019321",
   "metadata": {},
   "source": [
    "## UNData API Exercise\n",
    "\n",
    "In this exercise, you'll redo the data gathering phase of the UNData Exploration project by using APIs instead of downloading csv files.\n",
    "\n",
    "You'll make use of the [World Bank Indicators API](https://datahelpdesk.worldbank.org/knowledgebase/articles/889392-about-the-indicators-api-documentation). Note that this API does not require an API key. Before attempting the exercise, it would be a good idea to skim through the Documentation page and to check out the [Basic Call Structure article](https://datahelpdesk.worldbank.org/knowledgebase/articles/898581)."
   ]
  },
  {
   "cell_type": "code",
   "execution_count": 1,
   "id": "e1d7057e-b49e-4573-8cdb-747e641b1daa",
   "metadata": {},
   "outputs": [],
   "source": [
    "import pandas as pd\n",
    "import requests\n",
    "import matplotlib.pyplot as plt"
   ]
  },
  {
   "cell_type": "markdown",
   "id": "8e1e3909-98f4-46b3-bf34-f8ac263632ba",
   "metadata": {},
   "source": [
    "1. Use the API to get all available data for the _GDP per capita, PPP (constant 2017 international $)_ indicator. Hint: this indicator has code \"NY.GDP.PCAP.PP.KD\". Adjust the query parameters so that you can retrieve all available rows. Convert the results to a DataFrame."
   ]
  },
  {
   "cell_type": "code",
   "execution_count": 2,
   "id": "f6d0d242-213b-4c95-84eb-d4d4bb4266af",
   "metadata": {},
   "outputs": [],
   "source": [
    "endpoint = 'https://api.worldbank.org/v2/country/all/indicator/NY.GDP.PCAP.PP.KD?format=json'\n",
    "response= requests.get(endpoint)"
   ]
  },
  {
   "cell_type": "code",
   "execution_count": 3,
   "id": "1a175bac-6cef-49a3-8a13-b154a842e28a",
   "metadata": {},
   "outputs": [
    {
     "data": {
      "text/plain": [
       "<Response [200]>"
      ]
     },
     "execution_count": 3,
     "metadata": {},
     "output_type": "execute_result"
    }
   ],
   "source": [
    "response"
   ]
  },
  {
   "cell_type": "code",
   "execution_count": 4,
   "id": "32bc88b1-5c2c-4a20-b03a-a20369467b8f",
   "metadata": {},
   "outputs": [
    {
     "data": {
      "text/plain": [
       "<Response [200]>"
      ]
     },
     "execution_count": 4,
     "metadata": {},
     "output_type": "execute_result"
    }
   ],
   "source": [
    "endpoint = 'https://api.worldbank.org/v2/country/all/indicator/NY.GDP.PCAP.PP.KD'\n",
    "\n",
    "params = {\n",
    "    'format' : 'json',\n",
    "    'Per_page': '20000',\n",
    "}\n",
    "\n",
    "response = requests.get(endpoint, params=params)\n",
    "\n",
    "response"
   ]
  },
  {
   "cell_type": "code",
   "execution_count": 5,
   "id": "9dc6b671-3390-40bb-8875-51d43d9b6782",
   "metadata": {},
   "outputs": [
    {
     "data": {
      "text/plain": [
       "17290"
      ]
     },
     "execution_count": 5,
     "metadata": {},
     "output_type": "execute_result"
    }
   ],
   "source": [
    "res = response.json()\n",
    "len(res[1])"
   ]
  },
  {
   "cell_type": "code",
   "execution_count": 6,
   "id": "1fbefe53-904c-491c-b3f8-38e47dd33a3d",
   "metadata": {},
   "outputs": [
    {
     "data": {
      "text/html": [
       "<div>\n",
       "<style scoped>\n",
       "    .dataframe tbody tr th:only-of-type {\n",
       "        vertical-align: middle;\n",
       "    }\n",
       "\n",
       "    .dataframe tbody tr th {\n",
       "        vertical-align: top;\n",
       "    }\n",
       "\n",
       "    .dataframe thead th {\n",
       "        text-align: right;\n",
       "    }\n",
       "</style>\n",
       "<table border=\"1\" class=\"dataframe\">\n",
       "  <thead>\n",
       "    <tr style=\"text-align: right;\">\n",
       "      <th></th>\n",
       "      <th>countryiso3code</th>\n",
       "      <th>date</th>\n",
       "      <th>GDP</th>\n",
       "      <th>unit</th>\n",
       "      <th>obs_status</th>\n",
       "      <th>decimal</th>\n",
       "      <th>indicator.id</th>\n",
       "      <th>indicator.value</th>\n",
       "      <th>country.id</th>\n",
       "      <th>country.value</th>\n",
       "    </tr>\n",
       "  </thead>\n",
       "  <tbody>\n",
       "    <tr>\n",
       "      <th>0</th>\n",
       "      <td>AFE</td>\n",
       "      <td>2024</td>\n",
       "      <td>3968.963751</td>\n",
       "      <td></td>\n",
       "      <td></td>\n",
       "      <td>0</td>\n",
       "      <td>NY.GDP.PCAP.PP.KD</td>\n",
       "      <td>GDP per capita, PPP (constant 2021 internation...</td>\n",
       "      <td>ZH</td>\n",
       "      <td>Africa Eastern and Southern</td>\n",
       "    </tr>\n",
       "    <tr>\n",
       "      <th>1</th>\n",
       "      <td>AFE</td>\n",
       "      <td>2023</td>\n",
       "      <td>3948.142721</td>\n",
       "      <td></td>\n",
       "      <td></td>\n",
       "      <td>0</td>\n",
       "      <td>NY.GDP.PCAP.PP.KD</td>\n",
       "      <td>GDP per capita, PPP (constant 2021 internation...</td>\n",
       "      <td>ZH</td>\n",
       "      <td>Africa Eastern and Southern</td>\n",
       "    </tr>\n",
       "  </tbody>\n",
       "</table>\n",
       "</div>"
      ],
      "text/plain": [
       "  countryiso3code  date          GDP unit obs_status  decimal  \\\n",
       "0             AFE  2024  3968.963751                        0   \n",
       "1             AFE  2023  3948.142721                        0   \n",
       "\n",
       "        indicator.id                                    indicator.value  \\\n",
       "0  NY.GDP.PCAP.PP.KD  GDP per capita, PPP (constant 2021 internation...   \n",
       "1  NY.GDP.PCAP.PP.KD  GDP per capita, PPP (constant 2021 internation...   \n",
       "\n",
       "  country.id                country.value  \n",
       "0         ZH  Africa Eastern and Southern  \n",
       "1         ZH  Africa Eastern and Southern  "
      ]
     },
     "execution_count": 6,
     "metadata": {},
     "output_type": "execute_result"
    }
   ],
   "source": [
    "un_df_1 = pd.json_normalize(res[1])\n",
    "un_df_1 = un_df_1.rename(columns={\"value\" : \"GDP\"})\n",
    "un_df_1.head(2)"
   ]
  },
  {
   "cell_type": "markdown",
   "id": "1806767f-3466-494e-b910-1c7504e62f28",
   "metadata": {},
   "source": [
    "2. Now, use the API to get all available data for _Life expectancy at birth, total (years)_. This indicator has code \"SP.DYN.LE00.IN\". Again, convert the results to a DataFrame."
   ]
  },
  {
   "cell_type": "code",
   "execution_count": 7,
   "id": "cb90c661-eca1-460c-b3e9-9578cee53207",
   "metadata": {},
   "outputs": [
    {
     "data": {
      "text/plain": [
       "<Response [200]>"
      ]
     },
     "execution_count": 7,
     "metadata": {},
     "output_type": "execute_result"
    }
   ],
   "source": [
    "endpoint = 'https://api.worldbank.org/v2/country/all/indicator/SP.DYN.LE00.IN'\n",
    "\n",
    "params = {\n",
    "    'format' : 'json',\n",
    "    'Per_page': '20000',\n",
    "}\n",
    "\n",
    "response = requests.get(endpoint, params=params)\n",
    "\n",
    "response"
   ]
  },
  {
   "cell_type": "code",
   "execution_count": 8,
   "id": "8db69551-0bff-4c3f-a2d6-8d595ddf4929",
   "metadata": {},
   "outputs": [
    {
     "data": {
      "text/plain": [
       "17290"
      ]
     },
     "execution_count": 8,
     "metadata": {},
     "output_type": "execute_result"
    }
   ],
   "source": [
    "res = response.json()\n",
    "len(res[1])"
   ]
  },
  {
   "cell_type": "code",
   "execution_count": 9,
   "id": "8747973a-363e-4f34-9a0f-b6549acfd98b",
   "metadata": {},
   "outputs": [
    {
     "data": {
      "text/html": [
       "<div>\n",
       "<style scoped>\n",
       "    .dataframe tbody tr th:only-of-type {\n",
       "        vertical-align: middle;\n",
       "    }\n",
       "\n",
       "    .dataframe tbody tr th {\n",
       "        vertical-align: top;\n",
       "    }\n",
       "\n",
       "    .dataframe thead th {\n",
       "        text-align: right;\n",
       "    }\n",
       "</style>\n",
       "<table border=\"1\" class=\"dataframe\">\n",
       "  <thead>\n",
       "    <tr style=\"text-align: right;\">\n",
       "      <th></th>\n",
       "      <th>countryiso3code</th>\n",
       "      <th>date</th>\n",
       "      <th>Life_Expectancy</th>\n",
       "      <th>unit</th>\n",
       "      <th>obs_status</th>\n",
       "      <th>decimal</th>\n",
       "      <th>indicator.id</th>\n",
       "      <th>indicator.value</th>\n",
       "      <th>country.id</th>\n",
       "      <th>country.value</th>\n",
       "    </tr>\n",
       "  </thead>\n",
       "  <tbody>\n",
       "    <tr>\n",
       "      <th>0</th>\n",
       "      <td>AFE</td>\n",
       "      <td>2024</td>\n",
       "      <td>NaN</td>\n",
       "      <td></td>\n",
       "      <td></td>\n",
       "      <td>0</td>\n",
       "      <td>SP.DYN.LE00.IN</td>\n",
       "      <td>Life expectancy at birth, total (years)</td>\n",
       "      <td>ZH</td>\n",
       "      <td>Africa Eastern and Southern</td>\n",
       "    </tr>\n",
       "    <tr>\n",
       "      <th>1</th>\n",
       "      <td>AFE</td>\n",
       "      <td>2023</td>\n",
       "      <td>65.146291</td>\n",
       "      <td></td>\n",
       "      <td></td>\n",
       "      <td>0</td>\n",
       "      <td>SP.DYN.LE00.IN</td>\n",
       "      <td>Life expectancy at birth, total (years)</td>\n",
       "      <td>ZH</td>\n",
       "      <td>Africa Eastern and Southern</td>\n",
       "    </tr>\n",
       "  </tbody>\n",
       "</table>\n",
       "</div>"
      ],
      "text/plain": [
       "  countryiso3code  date  Life_Expectancy unit obs_status  decimal  \\\n",
       "0             AFE  2024              NaN                        0   \n",
       "1             AFE  2023        65.146291                        0   \n",
       "\n",
       "     indicator.id                          indicator.value country.id  \\\n",
       "0  SP.DYN.LE00.IN  Life expectancy at birth, total (years)         ZH   \n",
       "1  SP.DYN.LE00.IN  Life expectancy at birth, total (years)         ZH   \n",
       "\n",
       "                 country.value  \n",
       "0  Africa Eastern and Southern  \n",
       "1  Africa Eastern and Southern  "
      ]
     },
     "execution_count": 9,
     "metadata": {},
     "output_type": "execute_result"
    }
   ],
   "source": [
    "un_df_2 = pd.json_normalize(res[1])\n",
    "un_df_2 = un_df_2.rename(columns={\"value\" : \"Life_Expectancy\"})\n",
    "un_df_2.head(2)"
   ]
  },
  {
   "cell_type": "markdown",
   "id": "b33185fa-c037-409f-b413-4a6d92005bd7",
   "metadata": {},
   "source": [
    "3. Merge the two results DataFrames together. You may want to rename or drop columns prior to merging."
   ]
  },
  {
   "cell_type": "code",
   "execution_count": 10,
   "id": "07f15b9a-1b98-4cf0-9140-fc04cf4101c3",
   "metadata": {},
   "outputs": [],
   "source": [
    "un_merged = pd.merge(un_df_1, un_df_2, on=['date', 'country.value'], how = \"inner\" )\n",
    "#\"on\" selecting the filter columns to make sure we matched during the merge"
   ]
  },
  {
   "cell_type": "code",
   "execution_count": 11,
   "id": "fe15a414-7834-4b54-acd5-80167d0102c3",
   "metadata": {},
   "outputs": [],
   "source": [
    "un_merged_rough = un_merged[[\"GDP\", \"date\", \"country.value\", \"Life_Expectancy\"]]\n",
    "#filtered to columns i wanted"
   ]
  },
  {
   "cell_type": "code",
   "execution_count": 12,
   "id": "d0e92ce2-316b-48dd-bfca-760768462bf9",
   "metadata": {},
   "outputs": [
    {
     "data": {
      "text/html": [
       "<div>\n",
       "<style scoped>\n",
       "    .dataframe tbody tr th:only-of-type {\n",
       "        vertical-align: middle;\n",
       "    }\n",
       "\n",
       "    .dataframe tbody tr th {\n",
       "        vertical-align: top;\n",
       "    }\n",
       "\n",
       "    .dataframe thead th {\n",
       "        text-align: right;\n",
       "    }\n",
       "</style>\n",
       "<table border=\"1\" class=\"dataframe\">\n",
       "  <thead>\n",
       "    <tr style=\"text-align: right;\">\n",
       "      <th></th>\n",
       "      <th>GDP</th>\n",
       "      <th>Year</th>\n",
       "      <th>Country</th>\n",
       "      <th>Life_Expectancy</th>\n",
       "    </tr>\n",
       "  </thead>\n",
       "  <tbody>\n",
       "    <tr>\n",
       "      <th>0</th>\n",
       "      <td>3968.963751</td>\n",
       "      <td>2024</td>\n",
       "      <td>Africa Eastern and Southern</td>\n",
       "      <td>NaN</td>\n",
       "    </tr>\n",
       "    <tr>\n",
       "      <th>1</th>\n",
       "      <td>3948.142721</td>\n",
       "      <td>2023</td>\n",
       "      <td>Africa Eastern and Southern</td>\n",
       "      <td>65.146291</td>\n",
       "    </tr>\n",
       "  </tbody>\n",
       "</table>\n",
       "</div>"
      ],
      "text/plain": [
       "           GDP  Year                      Country  Life_Expectancy\n",
       "0  3968.963751  2024  Africa Eastern and Southern              NaN\n",
       "1  3948.142721  2023  Africa Eastern and Southern        65.146291"
      ]
     },
     "execution_count": 12,
     "metadata": {},
     "output_type": "execute_result"
    }
   ],
   "source": [
    "un_merged_clean = un_merged_rough.rename(columns={\"country.value\" : \"Country\", \"date\" : \"Year\" })\n",
    "un_merged_clean.head(2)\n",
    "#renamed columns"
   ]
  },
  {
   "cell_type": "markdown",
   "id": "b9657192-9f62-46a6-b4ad-5e4865079ef8",
   "metadata": {},
   "source": [
    "4. You can also get more information about the available countries (region, capital city, income level classification, etc.) by using the [Country API](https://datahelpdesk.worldbank.org/knowledgebase/articles/898590-country-api-queries). Use this API to pull in all available data. Merge this with your other datasets. Use this to now remove the rows that correspond to regions and not countries."
   ]
  },
  {
   "cell_type": "code",
   "execution_count": 13,
   "id": "ffedeb65-3f87-42d0-9672-f1acd65214a8",
   "metadata": {},
   "outputs": [
    {
     "data": {
      "text/plain": [
       "<Response [200]>"
      ]
     },
     "execution_count": 13,
     "metadata": {},
     "output_type": "execute_result"
    }
   ],
   "source": [
    "endpoint = 'https://api.worldbank.org/v2/country/'\n",
    "params = {\n",
    "    'format' : 'json',\n",
    "    'Per_page': '20000',\n",
    "}\n",
    "\n",
    "response = requests.get(endpoint, params=params)\n",
    "response"
   ]
  },
  {
   "cell_type": "code",
   "execution_count": 14,
   "id": "27cfcd4c-64fe-495e-a881-32883840c270",
   "metadata": {},
   "outputs": [
    {
     "data": {
      "text/plain": [
       "296"
      ]
     },
     "execution_count": 14,
     "metadata": {},
     "output_type": "execute_result"
    }
   ],
   "source": [
    "res = response.json()\n",
    "len(res[1])"
   ]
  },
  {
   "cell_type": "code",
   "execution_count": 15,
   "id": "bf449a18-351e-40a4-9717-699ce7b9b57a",
   "metadata": {},
   "outputs": [],
   "source": [
    "country_region = pd.json_normalize(res[1])\n",
    "country_region_clean = country_region[country_region['region.id'] != \"NA\"]"
   ]
  },
  {
   "cell_type": "code",
   "execution_count": 16,
   "id": "0ef56f9b-fad6-4a66-a256-886aba45066d",
   "metadata": {},
   "outputs": [
    {
     "data": {
      "text/plain": [
       "array(['Latin America & Caribbean ',\n",
       "       'Middle East, North Africa, Afghanistan & Pakistan',\n",
       "       'Sub-Saharan Africa ', 'Europe & Central Asia',\n",
       "       'East Asia & Pacific', 'South Asia', 'North America'], dtype=object)"
      ]
     },
     "execution_count": 16,
     "metadata": {},
     "output_type": "execute_result"
    }
   ],
   "source": [
    "country_region_clean['region.value'].unique()"
   ]
  },
  {
   "cell_type": "code",
   "execution_count": 17,
   "id": "a34ac755-8618-4941-8e42-cdd290d646d5",
   "metadata": {},
   "outputs": [
    {
     "data": {
      "text/html": [
       "<div>\n",
       "<style scoped>\n",
       "    .dataframe tbody tr th:only-of-type {\n",
       "        vertical-align: middle;\n",
       "    }\n",
       "\n",
       "    .dataframe tbody tr th {\n",
       "        vertical-align: top;\n",
       "    }\n",
       "\n",
       "    .dataframe thead th {\n",
       "        text-align: right;\n",
       "    }\n",
       "</style>\n",
       "<table border=\"1\" class=\"dataframe\">\n",
       "  <thead>\n",
       "    <tr style=\"text-align: right;\">\n",
       "      <th></th>\n",
       "      <th>id</th>\n",
       "      <th>iso2Code</th>\n",
       "      <th>name</th>\n",
       "      <th>capitalCity</th>\n",
       "      <th>longitude</th>\n",
       "      <th>latitude</th>\n",
       "      <th>region.id</th>\n",
       "      <th>region.iso2code</th>\n",
       "      <th>region.value</th>\n",
       "      <th>adminregion.id</th>\n",
       "      <th>adminregion.iso2code</th>\n",
       "      <th>adminregion.value</th>\n",
       "      <th>incomeLevel.id</th>\n",
       "      <th>incomeLevel.iso2code</th>\n",
       "      <th>incomeLevel.value</th>\n",
       "      <th>lendingType.id</th>\n",
       "      <th>lendingType.iso2code</th>\n",
       "      <th>lendingType.value</th>\n",
       "    </tr>\n",
       "  </thead>\n",
       "  <tbody>\n",
       "    <tr>\n",
       "      <th>0</th>\n",
       "      <td>ABW</td>\n",
       "      <td>AW</td>\n",
       "      <td>Aruba</td>\n",
       "      <td>Oranjestad</td>\n",
       "      <td>-70.0167</td>\n",
       "      <td>12.5167</td>\n",
       "      <td>LCN</td>\n",
       "      <td>ZJ</td>\n",
       "      <td>Latin America &amp; Caribbean</td>\n",
       "      <td></td>\n",
       "      <td></td>\n",
       "      <td></td>\n",
       "      <td>HIC</td>\n",
       "      <td>XD</td>\n",
       "      <td>High income</td>\n",
       "      <td>LNX</td>\n",
       "      <td>XX</td>\n",
       "      <td>Not classified</td>\n",
       "    </tr>\n",
       "    <tr>\n",
       "      <th>2</th>\n",
       "      <td>AFG</td>\n",
       "      <td>AF</td>\n",
       "      <td>Afghanistan</td>\n",
       "      <td>Kabul</td>\n",
       "      <td>69.1761</td>\n",
       "      <td>34.5228</td>\n",
       "      <td>MEA</td>\n",
       "      <td>ZQ</td>\n",
       "      <td>Middle East, North Africa, Afghanistan &amp; Pakistan</td>\n",
       "      <td>MNA</td>\n",
       "      <td>XQ</td>\n",
       "      <td>Middle East, North Africa, Afghanistan &amp; Pakis...</td>\n",
       "      <td>LIC</td>\n",
       "      <td>XM</td>\n",
       "      <td>Low income</td>\n",
       "      <td>IDX</td>\n",
       "      <td>XI</td>\n",
       "      <td>IDA</td>\n",
       "    </tr>\n",
       "  </tbody>\n",
       "</table>\n",
       "</div>"
      ],
      "text/plain": [
       "    id iso2Code         name capitalCity longitude latitude region.id  \\\n",
       "0  ABW       AW        Aruba  Oranjestad  -70.0167  12.5167       LCN   \n",
       "2  AFG       AF  Afghanistan       Kabul   69.1761  34.5228       MEA   \n",
       "\n",
       "  region.iso2code                                       region.value  \\\n",
       "0              ZJ                         Latin America & Caribbean    \n",
       "2              ZQ  Middle East, North Africa, Afghanistan & Pakistan   \n",
       "\n",
       "  adminregion.id adminregion.iso2code  \\\n",
       "0                                       \n",
       "2            MNA                   XQ   \n",
       "\n",
       "                                   adminregion.value incomeLevel.id  \\\n",
       "0                                                               HIC   \n",
       "2  Middle East, North Africa, Afghanistan & Pakis...            LIC   \n",
       "\n",
       "  incomeLevel.iso2code incomeLevel.value lendingType.id lendingType.iso2code  \\\n",
       "0                   XD       High income            LNX                   XX   \n",
       "2                   XM        Low income            IDX                   XI   \n",
       "\n",
       "  lendingType.value  \n",
       "0    Not classified  \n",
       "2               IDA  "
      ]
     },
     "execution_count": 17,
     "metadata": {},
     "output_type": "execute_result"
    }
   ],
   "source": [
    "country_region_clean.head(2)"
   ]
  },
  {
   "cell_type": "code",
   "execution_count": 18,
   "id": "781f91bb-29fd-439b-a888-85dbf5e53b90",
   "metadata": {},
   "outputs": [],
   "source": [
    "country_region_clean = country_region_clean.rename( columns = {'name':'Country'})\n",
    "cr_for_merge = country_region_clean[['Country', 'capitalCity', 'region.value', 'incomeLevel.value']]"
   ]
  },
  {
   "cell_type": "code",
   "execution_count": 19,
   "id": "ffa1941b-74ff-44cc-ada1-388782995ec9",
   "metadata": {},
   "outputs": [
    {
     "data": {
      "text/html": [
       "<div>\n",
       "<style scoped>\n",
       "    .dataframe tbody tr th:only-of-type {\n",
       "        vertical-align: middle;\n",
       "    }\n",
       "\n",
       "    .dataframe tbody tr th {\n",
       "        vertical-align: top;\n",
       "    }\n",
       "\n",
       "    .dataframe thead th {\n",
       "        text-align: right;\n",
       "    }\n",
       "</style>\n",
       "<table border=\"1\" class=\"dataframe\">\n",
       "  <thead>\n",
       "    <tr style=\"text-align: right;\">\n",
       "      <th></th>\n",
       "      <th>GDP</th>\n",
       "      <th>Year</th>\n",
       "      <th>Country</th>\n",
       "      <th>Life_Expectancy</th>\n",
       "      <th>Capital</th>\n",
       "      <th>Region</th>\n",
       "      <th>Income Level</th>\n",
       "    </tr>\n",
       "  </thead>\n",
       "  <tbody>\n",
       "    <tr>\n",
       "      <th>0</th>\n",
       "      <td>NaN</td>\n",
       "      <td>2024</td>\n",
       "      <td>Afghanistan</td>\n",
       "      <td>NaN</td>\n",
       "      <td>Kabul</td>\n",
       "      <td>Middle East, North Africa, Afghanistan &amp; Pakistan</td>\n",
       "      <td>Low income</td>\n",
       "    </tr>\n",
       "    <tr>\n",
       "      <th>1</th>\n",
       "      <td>1983.812620</td>\n",
       "      <td>2023</td>\n",
       "      <td>Afghanistan</td>\n",
       "      <td>66.035</td>\n",
       "      <td>Kabul</td>\n",
       "      <td>Middle East, North Africa, Afghanistan &amp; Pakistan</td>\n",
       "      <td>Low income</td>\n",
       "    </tr>\n",
       "    <tr>\n",
       "      <th>2</th>\n",
       "      <td>1981.710168</td>\n",
       "      <td>2022</td>\n",
       "      <td>Afghanistan</td>\n",
       "      <td>65.617</td>\n",
       "      <td>Kabul</td>\n",
       "      <td>Middle East, North Africa, Afghanistan &amp; Pakistan</td>\n",
       "      <td>Low income</td>\n",
       "    </tr>\n",
       "    <tr>\n",
       "      <th>3</th>\n",
       "      <td>2144.166570</td>\n",
       "      <td>2021</td>\n",
       "      <td>Afghanistan</td>\n",
       "      <td>60.417</td>\n",
       "      <td>Kabul</td>\n",
       "      <td>Middle East, North Africa, Afghanistan &amp; Pakistan</td>\n",
       "      <td>Low income</td>\n",
       "    </tr>\n",
       "    <tr>\n",
       "      <th>4</th>\n",
       "      <td>2769.685745</td>\n",
       "      <td>2020</td>\n",
       "      <td>Afghanistan</td>\n",
       "      <td>61.454</td>\n",
       "      <td>Kabul</td>\n",
       "      <td>Middle East, North Africa, Afghanistan &amp; Pakistan</td>\n",
       "      <td>Low income</td>\n",
       "    </tr>\n",
       "    <tr>\n",
       "      <th>...</th>\n",
       "      <td>...</td>\n",
       "      <td>...</td>\n",
       "      <td>...</td>\n",
       "      <td>...</td>\n",
       "      <td>...</td>\n",
       "      <td>...</td>\n",
       "      <td>...</td>\n",
       "    </tr>\n",
       "    <tr>\n",
       "      <th>14100</th>\n",
       "      <td>NaN</td>\n",
       "      <td>1964</td>\n",
       "      <td>Zimbabwe</td>\n",
       "      <td>55.431</td>\n",
       "      <td>Harare</td>\n",
       "      <td>Sub-Saharan Africa</td>\n",
       "      <td>Lower middle income</td>\n",
       "    </tr>\n",
       "    <tr>\n",
       "      <th>14101</th>\n",
       "      <td>NaN</td>\n",
       "      <td>1963</td>\n",
       "      <td>Zimbabwe</td>\n",
       "      <td>54.942</td>\n",
       "      <td>Harare</td>\n",
       "      <td>Sub-Saharan Africa</td>\n",
       "      <td>Lower middle income</td>\n",
       "    </tr>\n",
       "    <tr>\n",
       "      <th>14102</th>\n",
       "      <td>NaN</td>\n",
       "      <td>1962</td>\n",
       "      <td>Zimbabwe</td>\n",
       "      <td>54.453</td>\n",
       "      <td>Harare</td>\n",
       "      <td>Sub-Saharan Africa</td>\n",
       "      <td>Lower middle income</td>\n",
       "    </tr>\n",
       "    <tr>\n",
       "      <th>14103</th>\n",
       "      <td>NaN</td>\n",
       "      <td>1961</td>\n",
       "      <td>Zimbabwe</td>\n",
       "      <td>53.966</td>\n",
       "      <td>Harare</td>\n",
       "      <td>Sub-Saharan Africa</td>\n",
       "      <td>Lower middle income</td>\n",
       "    </tr>\n",
       "    <tr>\n",
       "      <th>14104</th>\n",
       "      <td>NaN</td>\n",
       "      <td>1960</td>\n",
       "      <td>Zimbabwe</td>\n",
       "      <td>53.492</td>\n",
       "      <td>Harare</td>\n",
       "      <td>Sub-Saharan Africa</td>\n",
       "      <td>Lower middle income</td>\n",
       "    </tr>\n",
       "  </tbody>\n",
       "</table>\n",
       "<p>14105 rows × 7 columns</p>\n",
       "</div>"
      ],
      "text/plain": [
       "               GDP  Year      Country  Life_Expectancy Capital  \\\n",
       "0              NaN  2024  Afghanistan              NaN   Kabul   \n",
       "1      1983.812620  2023  Afghanistan           66.035   Kabul   \n",
       "2      1981.710168  2022  Afghanistan           65.617   Kabul   \n",
       "3      2144.166570  2021  Afghanistan           60.417   Kabul   \n",
       "4      2769.685745  2020  Afghanistan           61.454   Kabul   \n",
       "...            ...   ...          ...              ...     ...   \n",
       "14100          NaN  1964     Zimbabwe           55.431  Harare   \n",
       "14101          NaN  1963     Zimbabwe           54.942  Harare   \n",
       "14102          NaN  1962     Zimbabwe           54.453  Harare   \n",
       "14103          NaN  1961     Zimbabwe           53.966  Harare   \n",
       "14104          NaN  1960     Zimbabwe           53.492  Harare   \n",
       "\n",
       "                                                  Region         Income Level  \n",
       "0      Middle East, North Africa, Afghanistan & Pakistan           Low income  \n",
       "1      Middle East, North Africa, Afghanistan & Pakistan           Low income  \n",
       "2      Middle East, North Africa, Afghanistan & Pakistan           Low income  \n",
       "3      Middle East, North Africa, Afghanistan & Pakistan           Low income  \n",
       "4      Middle East, North Africa, Afghanistan & Pakistan           Low income  \n",
       "...                                                  ...                  ...  \n",
       "14100                                Sub-Saharan Africa   Lower middle income  \n",
       "14101                                Sub-Saharan Africa   Lower middle income  \n",
       "14102                                Sub-Saharan Africa   Lower middle income  \n",
       "14103                                Sub-Saharan Africa   Lower middle income  \n",
       "14104                                Sub-Saharan Africa   Lower middle income  \n",
       "\n",
       "[14105 rows x 7 columns]"
      ]
     },
     "execution_count": 19,
     "metadata": {},
     "output_type": "execute_result"
    }
   ],
   "source": [
    "gdp_le_region = pd.merge(un_merged_clean, cr_for_merge, on = \"Country\", how= \"inner\")\n",
    "gdp_le_region = gdp_le_region.rename (columns= {'region.value': 'Region', 'incomeLevel.value':\"Income Level\", 'capitalCity': \"Capital\"})\n",
    "gdp_le_region"
   ]
  },
  {
   "cell_type": "code",
   "execution_count": 20,
   "id": "0814fdee-0535-4cec-aa9a-950f1751ab03",
   "metadata": {},
   "outputs": [
    {
     "data": {
      "text/html": [
       "<div>\n",
       "<style scoped>\n",
       "    .dataframe tbody tr th:only-of-type {\n",
       "        vertical-align: middle;\n",
       "    }\n",
       "\n",
       "    .dataframe tbody tr th {\n",
       "        vertical-align: top;\n",
       "    }\n",
       "\n",
       "    .dataframe thead th {\n",
       "        text-align: right;\n",
       "    }\n",
       "</style>\n",
       "<table border=\"1\" class=\"dataframe\">\n",
       "  <thead>\n",
       "    <tr style=\"text-align: right;\">\n",
       "      <th></th>\n",
       "      <th>GDP</th>\n",
       "      <th>Year</th>\n",
       "      <th>Country</th>\n",
       "      <th>Life_Expectancy</th>\n",
       "      <th>Capital</th>\n",
       "      <th>Region</th>\n",
       "      <th>Income Level</th>\n",
       "    </tr>\n",
       "  </thead>\n",
       "  <tbody>\n",
       "    <tr>\n",
       "      <th>1</th>\n",
       "      <td>1983.812620</td>\n",
       "      <td>2023</td>\n",
       "      <td>Afghanistan</td>\n",
       "      <td>66.035</td>\n",
       "      <td>Kabul</td>\n",
       "      <td>Middle East, North Africa, Afghanistan &amp; Pakistan</td>\n",
       "      <td>Low income</td>\n",
       "    </tr>\n",
       "    <tr>\n",
       "      <th>2</th>\n",
       "      <td>1981.710168</td>\n",
       "      <td>2022</td>\n",
       "      <td>Afghanistan</td>\n",
       "      <td>65.617</td>\n",
       "      <td>Kabul</td>\n",
       "      <td>Middle East, North Africa, Afghanistan &amp; Pakistan</td>\n",
       "      <td>Low income</td>\n",
       "    </tr>\n",
       "    <tr>\n",
       "      <th>3</th>\n",
       "      <td>2144.166570</td>\n",
       "      <td>2021</td>\n",
       "      <td>Afghanistan</td>\n",
       "      <td>60.417</td>\n",
       "      <td>Kabul</td>\n",
       "      <td>Middle East, North Africa, Afghanistan &amp; Pakistan</td>\n",
       "      <td>Low income</td>\n",
       "    </tr>\n",
       "    <tr>\n",
       "      <th>4</th>\n",
       "      <td>2769.685745</td>\n",
       "      <td>2020</td>\n",
       "      <td>Afghanistan</td>\n",
       "      <td>61.454</td>\n",
       "      <td>Kabul</td>\n",
       "      <td>Middle East, North Africa, Afghanistan &amp; Pakistan</td>\n",
       "      <td>Low income</td>\n",
       "    </tr>\n",
       "    <tr>\n",
       "      <th>5</th>\n",
       "      <td>2927.245144</td>\n",
       "      <td>2019</td>\n",
       "      <td>Afghanistan</td>\n",
       "      <td>62.941</td>\n",
       "      <td>Kabul</td>\n",
       "      <td>Middle East, North Africa, Afghanistan &amp; Pakistan</td>\n",
       "      <td>Low income</td>\n",
       "    </tr>\n",
       "    <tr>\n",
       "      <th>...</th>\n",
       "      <td>...</td>\n",
       "      <td>...</td>\n",
       "      <td>...</td>\n",
       "      <td>...</td>\n",
       "      <td>...</td>\n",
       "      <td>...</td>\n",
       "      <td>...</td>\n",
       "    </tr>\n",
       "    <tr>\n",
       "      <th>14070</th>\n",
       "      <td>3965.727862</td>\n",
       "      <td>1994</td>\n",
       "      <td>Zimbabwe</td>\n",
       "      <td>52.537</td>\n",
       "      <td>Harare</td>\n",
       "      <td>Sub-Saharan Africa</td>\n",
       "      <td>Lower middle income</td>\n",
       "    </tr>\n",
       "    <tr>\n",
       "      <th>14071</th>\n",
       "      <td>3634.747632</td>\n",
       "      <td>1993</td>\n",
       "      <td>Zimbabwe</td>\n",
       "      <td>53.976</td>\n",
       "      <td>Harare</td>\n",
       "      <td>Sub-Saharan Africa</td>\n",
       "      <td>Lower middle income</td>\n",
       "    </tr>\n",
       "    <tr>\n",
       "      <th>14072</th>\n",
       "      <td>3649.889072</td>\n",
       "      <td>1992</td>\n",
       "      <td>Zimbabwe</td>\n",
       "      <td>55.602</td>\n",
       "      <td>Harare</td>\n",
       "      <td>Sub-Saharan Africa</td>\n",
       "      <td>Lower middle income</td>\n",
       "    </tr>\n",
       "    <tr>\n",
       "      <th>14073</th>\n",
       "      <td>4126.401997</td>\n",
       "      <td>1991</td>\n",
       "      <td>Zimbabwe</td>\n",
       "      <td>57.037</td>\n",
       "      <td>Harare</td>\n",
       "      <td>Sub-Saharan Africa</td>\n",
       "      <td>Lower middle income</td>\n",
       "    </tr>\n",
       "    <tr>\n",
       "      <th>14074</th>\n",
       "      <td>4013.295898</td>\n",
       "      <td>1990</td>\n",
       "      <td>Zimbabwe</td>\n",
       "      <td>58.319</td>\n",
       "      <td>Harare</td>\n",
       "      <td>Sub-Saharan Africa</td>\n",
       "      <td>Lower middle income</td>\n",
       "    </tr>\n",
       "  </tbody>\n",
       "</table>\n",
       "<p>6597 rows × 7 columns</p>\n",
       "</div>"
      ],
      "text/plain": [
       "               GDP  Year      Country  Life_Expectancy Capital  \\\n",
       "1      1983.812620  2023  Afghanistan           66.035   Kabul   \n",
       "2      1981.710168  2022  Afghanistan           65.617   Kabul   \n",
       "3      2144.166570  2021  Afghanistan           60.417   Kabul   \n",
       "4      2769.685745  2020  Afghanistan           61.454   Kabul   \n",
       "5      2927.245144  2019  Afghanistan           62.941   Kabul   \n",
       "...            ...   ...          ...              ...     ...   \n",
       "14070  3965.727862  1994     Zimbabwe           52.537  Harare   \n",
       "14071  3634.747632  1993     Zimbabwe           53.976  Harare   \n",
       "14072  3649.889072  1992     Zimbabwe           55.602  Harare   \n",
       "14073  4126.401997  1991     Zimbabwe           57.037  Harare   \n",
       "14074  4013.295898  1990     Zimbabwe           58.319  Harare   \n",
       "\n",
       "                                                  Region         Income Level  \n",
       "1      Middle East, North Africa, Afghanistan & Pakistan           Low income  \n",
       "2      Middle East, North Africa, Afghanistan & Pakistan           Low income  \n",
       "3      Middle East, North Africa, Afghanistan & Pakistan           Low income  \n",
       "4      Middle East, North Africa, Afghanistan & Pakistan           Low income  \n",
       "5      Middle East, North Africa, Afghanistan & Pakistan           Low income  \n",
       "...                                                  ...                  ...  \n",
       "14070                                Sub-Saharan Africa   Lower middle income  \n",
       "14071                                Sub-Saharan Africa   Lower middle income  \n",
       "14072                                Sub-Saharan Africa   Lower middle income  \n",
       "14073                                Sub-Saharan Africa   Lower middle income  \n",
       "14074                                Sub-Saharan Africa   Lower middle income  \n",
       "\n",
       "[6597 rows x 7 columns]"
      ]
     },
     "execution_count": 20,
     "metadata": {},
     "output_type": "execute_result"
    }
   ],
   "source": [
    "#dropped NAN values in Life expectancy and gdp\n",
    "gdp_le_region_final = gdp_le_region.dropna(subset = ['Life_Expectancy', 'GDP'])\n",
    "gdp_le_region_final"
   ]
  },
  {
   "cell_type": "markdown",
   "id": "f694231d-6a0b-4748-bb70-bc7b6082eb3a",
   "metadata": {},
   "source": [
    "**Bonus Questions:** After doing a basic request to get all records, you can attempt these exercises to get additional practice using query parameters."
   ]
  },
  {
   "cell_type": "markdown",
   "id": "e788bf31-bcb3-49f9-ba7e-222b12cc7486",
   "metadata": {},
   "source": [
    "1. Adjust your request so that it returns data just for the United States."
   ]
  },
  {
   "cell_type": "code",
   "execution_count": 21,
   "id": "91a89000-6f56-4f38-b709-33a8d32676e4",
   "metadata": {},
   "outputs": [
    {
     "data": {
      "text/html": [
       "<div>\n",
       "<style scoped>\n",
       "    .dataframe tbody tr th:only-of-type {\n",
       "        vertical-align: middle;\n",
       "    }\n",
       "\n",
       "    .dataframe tbody tr th {\n",
       "        vertical-align: top;\n",
       "    }\n",
       "\n",
       "    .dataframe thead th {\n",
       "        text-align: right;\n",
       "    }\n",
       "</style>\n",
       "<table border=\"1\" class=\"dataframe\">\n",
       "  <thead>\n",
       "    <tr style=\"text-align: right;\">\n",
       "      <th></th>\n",
       "      <th>GDP</th>\n",
       "      <th>Year</th>\n",
       "      <th>Country</th>\n",
       "      <th>Life_Expectancy</th>\n",
       "      <th>Capital</th>\n",
       "      <th>Region</th>\n",
       "      <th>Income Level</th>\n",
       "    </tr>\n",
       "  </thead>\n",
       "  <tbody>\n",
       "    <tr>\n",
       "      <th>13391</th>\n",
       "      <td>74158.716417</td>\n",
       "      <td>2023</td>\n",
       "      <td>United States</td>\n",
       "      <td>78.385366</td>\n",
       "      <td>Washington D.C.</td>\n",
       "      <td>North America</td>\n",
       "      <td>High income</td>\n",
       "    </tr>\n",
       "    <tr>\n",
       "      <th>13392</th>\n",
       "      <td>72679.257540</td>\n",
       "      <td>2022</td>\n",
       "      <td>United States</td>\n",
       "      <td>77.434146</td>\n",
       "      <td>Washington D.C.</td>\n",
       "      <td>North America</td>\n",
       "      <td>High income</td>\n",
       "    </tr>\n",
       "  </tbody>\n",
       "</table>\n",
       "</div>"
      ],
      "text/plain": [
       "                GDP  Year        Country  Life_Expectancy          Capital  \\\n",
       "13391  74158.716417  2023  United States        78.385366  Washington D.C.   \n",
       "13392  72679.257540  2022  United States        77.434146  Washington D.C.   \n",
       "\n",
       "              Region Income Level  \n",
       "13391  North America  High income  \n",
       "13392  North America  High income  "
      ]
     },
     "execution_count": 21,
     "metadata": {},
     "output_type": "execute_result"
    }
   ],
   "source": [
    "US_GDP = gdp_le_region_final[gdp_le_region_final['Country'] == \"United States\"] \n",
    "US_GDP.head(2)"
   ]
  },
  {
   "cell_type": "markdown",
   "id": "fd53c154-418e-43cb-91f2-87660cc8012a",
   "metadata": {},
   "source": [
    "2. Adjust your request so that it returns data just for the United States for the year 2021."
   ]
  },
  {
   "cell_type": "code",
   "execution_count": 22,
   "id": "4300b163-5a5a-4bbf-8b73-8e0ce25794ed",
   "metadata": {},
   "outputs": [
    {
     "data": {
      "text/html": [
       "<div>\n",
       "<style scoped>\n",
       "    .dataframe tbody tr th:only-of-type {\n",
       "        vertical-align: middle;\n",
       "    }\n",
       "\n",
       "    .dataframe tbody tr th {\n",
       "        vertical-align: top;\n",
       "    }\n",
       "\n",
       "    .dataframe thead th {\n",
       "        text-align: right;\n",
       "    }\n",
       "</style>\n",
       "<table border=\"1\" class=\"dataframe\">\n",
       "  <thead>\n",
       "    <tr style=\"text-align: right;\">\n",
       "      <th></th>\n",
       "      <th>GDP</th>\n",
       "      <th>Year</th>\n",
       "      <th>Country</th>\n",
       "      <th>Life_Expectancy</th>\n",
       "      <th>Capital</th>\n",
       "      <th>Region</th>\n",
       "      <th>Income Level</th>\n",
       "    </tr>\n",
       "  </thead>\n",
       "  <tbody>\n",
       "    <tr>\n",
       "      <th>13393</th>\n",
       "      <td>71307.401728</td>\n",
       "      <td>2021</td>\n",
       "      <td>United States</td>\n",
       "      <td>76.329268</td>\n",
       "      <td>Washington D.C.</td>\n",
       "      <td>North America</td>\n",
       "      <td>High income</td>\n",
       "    </tr>\n",
       "  </tbody>\n",
       "</table>\n",
       "</div>"
      ],
      "text/plain": [
       "                GDP  Year        Country  Life_Expectancy          Capital  \\\n",
       "13393  71307.401728  2021  United States        76.329268  Washington D.C.   \n",
       "\n",
       "              Region Income Level  \n",
       "13393  North America  High income  "
      ]
     },
     "execution_count": 22,
     "metadata": {},
     "output_type": "execute_result"
    }
   ],
   "source": [
    "US_GDP_2021 = US_GDP[US_GDP['Year'] == \"2021\"] \n",
    "US_GDP_2021.head()"
   ]
  },
  {
   "cell_type": "markdown",
   "id": "b9ac1595-cf31-434b-863c-f37d35aa283a",
   "metadata": {},
   "source": [
    "3. Adjust your request so that it returns data just for the United States for the years 2000 through 2021."
   ]
  },
  {
   "cell_type": "code",
   "execution_count": null,
   "id": "9c02cca5-69aa-48ae-a8e6-e89342adf397",
   "metadata": {},
   "outputs": [],
   "source": []
  },
  {
   "cell_type": "markdown",
   "id": "c41bb58d-91e0-42e3-b1e1-c2a9885c009d",
   "metadata": {},
   "source": [
    "4. Adjust your request so that it returns data for the United States and Canada for the years 2000 through 2021."
   ]
  },
  {
   "cell_type": "code",
   "execution_count": null,
   "id": "e309e0e8-844d-4ed0-b57e-5900e3eb2072",
   "metadata": {},
   "outputs": [],
   "source": []
  },
  {
   "cell_type": "markdown",
   "id": "09fce6ae-d360-42a8-881f-242cc69c63ce",
   "metadata": {},
   "source": [
    "5. If you haven't already done so and you would like to get some additional practice using loops, use the page parameter in order to pull all records. Do not change the value of the per_page parameter. You will likely need to utilize a loop of some kind in order to pull all records."
   ]
  },
  {
   "cell_type": "code",
   "execution_count": null,
   "id": "c8497567-59dc-47eb-bfb3-d93555ceeecf",
   "metadata": {},
   "outputs": [],
   "source": []
  },
  {
   "cell_type": "markdown",
   "id": "d41bd58a-9a5d-4c68-9b02-81c3dbbe5afa",
   "metadata": {},
   "source": [
    "6. The endpoint \"http://api.worldbank.org/v2/indicator\" will return information about all available indicators. See [Indicator API Queries](https://datahelpdesk.worldbank.org/knowledgebase/articles/898599-indicator-api-queries). Use this endpoint to find the code for the \"Public Expenditure on Education (% GDP)\" indicator."
   ]
  },
  {
   "cell_type": "code",
   "execution_count": null,
   "id": "cd2b0a96-8783-4602-aee9-a70d580fa7ab",
   "metadata": {},
   "outputs": [],
   "source": []
  }
 ],
 "metadata": {
  "kernelspec": {
   "display_name": "Python [conda env:base] *",
   "language": "python",
   "name": "conda-base-py"
  },
  "language_info": {
   "codemirror_mode": {
    "name": "ipython",
    "version": 3
   },
   "file_extension": ".py",
   "mimetype": "text/x-python",
   "name": "python",
   "nbconvert_exporter": "python",
   "pygments_lexer": "ipython3",
   "version": "3.13.5"
  }
 },
 "nbformat": 4,
 "nbformat_minor": 5
}

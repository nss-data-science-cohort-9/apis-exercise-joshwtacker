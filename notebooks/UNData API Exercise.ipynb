{
 "cells": [
  {
   "cell_type": "markdown",
   "id": "dca89e84-7d65-4712-b836-7238cd019321",
   "metadata": {},
   "source": [
    "## UNData API Exercise\n",
    "\n",
    "In this exercise, you'll redo the data gathering phase of the UNData Exploration project by using APIs instead of downloading csv files.\n",
    "\n",
    "You'll make use of the [World Bank Indicators API](https://datahelpdesk.worldbank.org/knowledgebase/articles/889392-about-the-indicators-api-documentation). Note that this API does not require an API key. Before attempting the exercise, it would be a good idea to skim through the Documentation page and to check out the [Basic Call Structure article](https://datahelpdesk.worldbank.org/knowledgebase/articles/898581)."
   ]
  },
  {
   "cell_type": "code",
   "execution_count": 71,
   "id": "e1d7057e-b49e-4573-8cdb-747e641b1daa",
   "metadata": {},
   "outputs": [],
   "source": [
    "import pandas as pd\n",
    "import requests\n",
    "import matplotlib.pyplot as plt"
   ]
  },
  {
   "cell_type": "markdown",
   "id": "8e1e3909-98f4-46b3-bf34-f8ac263632ba",
   "metadata": {},
   "source": [
    "1. Use the API to get all available data for the _GDP per capita, PPP (constant 2017 international $)_ indicator. Hint: this indicator has code \"NY.GDP.PCAP.PP.KD\". Adjust the query parameters so that you can retrieve all available rows. Convert the results to a DataFrame."
   ]
  },
  {
   "cell_type": "code",
   "execution_count": 72,
   "id": "f6d0d242-213b-4c95-84eb-d4d4bb4266af",
   "metadata": {},
   "outputs": [],
   "source": [
    "endpoint = 'https://api.worldbank.org/v2/country/all/indicator/NY.GDP.PCAP.PP.KD?format=json'\n",
    "response= requests.get(endpoint)"
   ]
  },
  {
   "cell_type": "code",
   "execution_count": 73,
   "id": "1a175bac-6cef-49a3-8a13-b154a842e28a",
   "metadata": {},
   "outputs": [
    {
     "data": {
      "text/plain": [
       "<Response [200]>"
      ]
     },
     "execution_count": 73,
     "metadata": {},
     "output_type": "execute_result"
    }
   ],
   "source": [
    "response"
   ]
  },
  {
   "cell_type": "code",
   "execution_count": 74,
   "id": "32bc88b1-5c2c-4a20-b03a-a20369467b8f",
   "metadata": {},
   "outputs": [
    {
     "data": {
      "text/plain": [
       "<Response [200]>"
      ]
     },
     "execution_count": 74,
     "metadata": {},
     "output_type": "execute_result"
    }
   ],
   "source": [
    "endpoint = 'https://api.worldbank.org/v2/country/all/indicator/NY.GDP.PCAP.PP.KD'\n",
    "\n",
    "params = {\n",
    "    'format' : 'json',\n",
    "    'Per_page': '20000',\n",
    "}\n",
    "\n",
    "response = requests.get(endpoint, params=params)\n",
    "\n",
    "response"
   ]
  },
  {
   "cell_type": "code",
   "execution_count": 75,
   "id": "9dc6b671-3390-40bb-8875-51d43d9b6782",
   "metadata": {},
   "outputs": [
    {
     "data": {
      "text/plain": [
       "17290"
      ]
     },
     "execution_count": 75,
     "metadata": {},
     "output_type": "execute_result"
    }
   ],
   "source": [
    "res = response.json()\n",
    "len(res[1])"
   ]
  },
  {
   "cell_type": "code",
   "execution_count": 85,
   "id": "1fbefe53-904c-491c-b3f8-38e47dd33a3d",
   "metadata": {},
   "outputs": [
    {
     "data": {
      "text/html": [
       "<div>\n",
       "<style scoped>\n",
       "    .dataframe tbody tr th:only-of-type {\n",
       "        vertical-align: middle;\n",
       "    }\n",
       "\n",
       "    .dataframe tbody tr th {\n",
       "        vertical-align: top;\n",
       "    }\n",
       "\n",
       "    .dataframe thead th {\n",
       "        text-align: right;\n",
       "    }\n",
       "</style>\n",
       "<table border=\"1\" class=\"dataframe\">\n",
       "  <thead>\n",
       "    <tr style=\"text-align: right;\">\n",
       "      <th></th>\n",
       "      <th>countryiso3code</th>\n",
       "      <th>date</th>\n",
       "      <th>value</th>\n",
       "      <th>unit</th>\n",
       "      <th>obs_status</th>\n",
       "      <th>decimal</th>\n",
       "      <th>indicator.id</th>\n",
       "      <th>indicator.value</th>\n",
       "      <th>country.id</th>\n",
       "      <th>country.value</th>\n",
       "    </tr>\n",
       "  </thead>\n",
       "  <tbody>\n",
       "    <tr>\n",
       "      <th>0</th>\n",
       "      <td>AFE</td>\n",
       "      <td>2024</td>\n",
       "      <td>3968.963751</td>\n",
       "      <td></td>\n",
       "      <td></td>\n",
       "      <td>0</td>\n",
       "      <td>NY.GDP.PCAP.PP.KD</td>\n",
       "      <td>GDP per capita, PPP (constant 2021 internation...</td>\n",
       "      <td>ZH</td>\n",
       "      <td>Africa Eastern and Southern</td>\n",
       "    </tr>\n",
       "    <tr>\n",
       "      <th>1</th>\n",
       "      <td>AFE</td>\n",
       "      <td>2023</td>\n",
       "      <td>3948.142721</td>\n",
       "      <td></td>\n",
       "      <td></td>\n",
       "      <td>0</td>\n",
       "      <td>NY.GDP.PCAP.PP.KD</td>\n",
       "      <td>GDP per capita, PPP (constant 2021 internation...</td>\n",
       "      <td>ZH</td>\n",
       "      <td>Africa Eastern and Southern</td>\n",
       "    </tr>\n",
       "  </tbody>\n",
       "</table>\n",
       "</div>"
      ],
      "text/plain": [
       "  countryiso3code  date        value unit obs_status  decimal  \\\n",
       "0             AFE  2024  3968.963751                        0   \n",
       "1             AFE  2023  3948.142721                        0   \n",
       "\n",
       "        indicator.id                                    indicator.value  \\\n",
       "0  NY.GDP.PCAP.PP.KD  GDP per capita, PPP (constant 2021 internation...   \n",
       "1  NY.GDP.PCAP.PP.KD  GDP per capita, PPP (constant 2021 internation...   \n",
       "\n",
       "  country.id                country.value  \n",
       "0         ZH  Africa Eastern and Southern  \n",
       "1         ZH  Africa Eastern and Southern  "
      ]
     },
     "execution_count": 85,
     "metadata": {},
     "output_type": "execute_result"
    }
   ],
   "source": [
    "undf1 = pd.json_normalize(res[1])\n",
    "undf1.head(2)"
   ]
  },
  {
   "cell_type": "markdown",
   "id": "1806767f-3466-494e-b910-1c7504e62f28",
   "metadata": {},
   "source": [
    "2. Now, use the API to get all available data for _Life expectancy at birth, total (years)_. This indicator has code \"SP.DYN.LE00.IN\". Again, convert the results to a DataFrame."
   ]
  },
  {
   "cell_type": "code",
   "execution_count": null,
   "id": "cb90c661-eca1-460c-b3e9-9578cee53207",
   "metadata": {},
   "outputs": [],
   "source": []
  },
  {
   "cell_type": "markdown",
   "id": "b33185fa-c037-409f-b413-4a6d92005bd7",
   "metadata": {},
   "source": [
    "3. Merge the two results DataFrames together. You may want to rename or drop columns prior to merging."
   ]
  },
  {
   "cell_type": "code",
   "execution_count": null,
   "id": "59521951-5bde-4c62-969f-8ea2358c9e4d",
   "metadata": {},
   "outputs": [],
   "source": []
  },
  {
   "cell_type": "markdown",
   "id": "b9657192-9f62-46a6-b4ad-5e4865079ef8",
   "metadata": {},
   "source": [
    "4. You can also get more information about the available countries (region, capital city, income level classification, etc.) by using the [Country API](https://datahelpdesk.worldbank.org/knowledgebase/articles/898590-country-api-queries). Use this API to pull in all available data. Merge this with your other datasets. Use this to now remove the rows that correspond to regions and not countries."
   ]
  },
  {
   "cell_type": "code",
   "execution_count": null,
   "id": "ffedeb65-3f87-42d0-9672-f1acd65214a8",
   "metadata": {},
   "outputs": [],
   "source": []
  },
  {
   "cell_type": "markdown",
   "id": "f694231d-6a0b-4748-bb70-bc7b6082eb3a",
   "metadata": {},
   "source": [
    "**Bonus Questions:** After doing a basic request to get all records, you can attempt these exercises to get additional practice using query parameters."
   ]
  },
  {
   "cell_type": "markdown",
   "id": "e788bf31-bcb3-49f9-ba7e-222b12cc7486",
   "metadata": {},
   "source": [
    "1. Adjust your request so that it returns data just for the United States."
   ]
  },
  {
   "cell_type": "code",
   "execution_count": null,
   "id": "91a89000-6f56-4f38-b709-33a8d32676e4",
   "metadata": {},
   "outputs": [],
   "source": []
  },
  {
   "cell_type": "markdown",
   "id": "fd53c154-418e-43cb-91f2-87660cc8012a",
   "metadata": {},
   "source": [
    "2. Adjust your request so that it returns data just for the United States for the year 2021."
   ]
  },
  {
   "cell_type": "code",
   "execution_count": null,
   "id": "4300b163-5a5a-4bbf-8b73-8e0ce25794ed",
   "metadata": {},
   "outputs": [],
   "source": []
  },
  {
   "cell_type": "markdown",
   "id": "b9ac1595-cf31-434b-863c-f37d35aa283a",
   "metadata": {},
   "source": [
    "3. Adjust your request so that it returns data just for the United States for the years 2000 through 2021."
   ]
  },
  {
   "cell_type": "code",
   "execution_count": null,
   "id": "9c02cca5-69aa-48ae-a8e6-e89342adf397",
   "metadata": {},
   "outputs": [],
   "source": []
  },
  {
   "cell_type": "markdown",
   "id": "c41bb58d-91e0-42e3-b1e1-c2a9885c009d",
   "metadata": {},
   "source": [
    "4. Adjust your request so that it returns data for the United States and Canada for the years 2000 through 2021."
   ]
  },
  {
   "cell_type": "code",
   "execution_count": null,
   "id": "e309e0e8-844d-4ed0-b57e-5900e3eb2072",
   "metadata": {},
   "outputs": [],
   "source": []
  },
  {
   "cell_type": "markdown",
   "id": "09fce6ae-d360-42a8-881f-242cc69c63ce",
   "metadata": {},
   "source": [
    "5. If you haven't already done so and you would like to get some additional practice using loops, use the page parameter in order to pull all records. Do not change the value of the per_page parameter. You will likely need to utilize a loop of some kind in order to pull all records."
   ]
  },
  {
   "cell_type": "code",
   "execution_count": null,
   "id": "c8497567-59dc-47eb-bfb3-d93555ceeecf",
   "metadata": {},
   "outputs": [],
   "source": []
  },
  {
   "cell_type": "markdown",
   "id": "d41bd58a-9a5d-4c68-9b02-81c3dbbe5afa",
   "metadata": {},
   "source": [
    "6. The endpoint \"http://api.worldbank.org/v2/indicator\" will return information about all available indicators. See [Indicator API Queries](https://datahelpdesk.worldbank.org/knowledgebase/articles/898599-indicator-api-queries). Use this endpoint to find the code for the \"Public Expenditure on Education (% GDP)\" indicator."
   ]
  },
  {
   "cell_type": "code",
   "execution_count": null,
   "id": "cd2b0a96-8783-4602-aee9-a70d580fa7ab",
   "metadata": {},
   "outputs": [],
   "source": []
  }
 ],
 "metadata": {
  "kernelspec": {
   "display_name": "Python [conda env:base] *",
   "language": "python",
   "name": "conda-base-py"
  },
  "language_info": {
   "codemirror_mode": {
    "name": "ipython",
    "version": 3
   },
   "file_extension": ".py",
   "mimetype": "text/x-python",
   "name": "python",
   "nbconvert_exporter": "python",
   "pygments_lexer": "ipython3",
   "version": "3.13.5"
  }
 },
 "nbformat": 4,
 "nbformat_minor": 5
}
